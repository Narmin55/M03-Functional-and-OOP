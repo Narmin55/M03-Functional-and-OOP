{
 "cells": [
  {
   "cell_type": "code",
   "execution_count": 1,
   "id": "b266acbf-0160-4adb-af59-8e844ca4b871",
   "metadata": {},
   "outputs": [
    {
     "name": "stdout",
     "output_type": "stream",
     "text": [
      "Even number\n"
     ]
    }
   ],
   "source": [
    "calc = lambda num: \"Even number\" if num % 2 == 0 else \"Odd number\"\n",
    " \n",
    "print(calc(20))"
   ]
  },
  {
   "cell_type": "code",
   "execution_count": 2,
   "id": "1f77a2e9-b64e-4884-9883-074d677b18b7",
   "metadata": {},
   "outputs": [
    {
     "name": "stdout",
     "output_type": "stream",
     "text": [
      "<function <lambda> at 0x000001E0EA6F2E80>\n"
     ]
    }
   ],
   "source": [
    "string = 'GeeksforGeeks'\n",
    " \n",
    "print(lambda string: string)"
   ]
  },
  {
   "cell_type": "code",
   "execution_count": 3,
   "id": "c660e8c4-a6f6-4415-bdad-d878dbb6f7d0",
   "metadata": {},
   "outputs": [
    {
     "name": "stdout",
     "output_type": "stream",
     "text": [
      "filter_nums(): Geeks\n",
      "do_exclaim(): I am tired!\n",
      "find_sum(): 2\n"
     ]
    }
   ],
   "source": [
    "filter_nums = lambda s: ''.join([ch for ch in s if not ch.isdigit()])\n",
    "print(\"filter_nums():\", filter_nums(\"Geeks101\"))\n",
    " \n",
    "do_exclaim = lambda s: s + '!'\n",
    "print(\"do_exclaim():\", do_exclaim(\"I am tired\"))\n",
    " \n",
    "find_sum = lambda n: sum([int(x) for x in str(n)])\n",
    "print(\"find_sum():\", find_sum(101))"
   ]
  },
  {
   "cell_type": "code",
   "execution_count": 6,
   "id": "88d448df-e3e1-4834-9956-1e60831b4f8e",
   "metadata": {},
   "outputs": [
    {
     "name": "stdout",
     "output_type": "stream",
     "text": [
      "invoking function defined with def keyword:\n",
      "Finding cube of number:30\n",
      "27000\n",
      "invoking lambda function: 27000\n"
     ]
    }
   ],
   "source": [
    "def cube(y):\n",
    "    print(f\"Finding cube of number:{y}\")\n",
    "    return y * y * y\n",
    " \n",
    " \n",
    "lambda_cube = lambda num: num ** 3\n",
    " \n",
    "print(\"invoking function defined with def keyword:\")\n",
    "print(cube(30))\n",
    "\n",
    "print(\"invoking lambda function:\", lambda_cube(30))"
   ]
  },
  {
   "cell_type": "code",
   "execution_count": 7,
   "id": "5dabd3b1-22c5-49df-be3b-bb12b5bc990f",
   "metadata": {},
   "outputs": [
    {
     "name": "stdout",
     "output_type": "stream",
     "text": [
      "Sorted numerically: ['-2', '-1', '0', '1', '2', '9']\n",
      "Filtered positive even numbers: ['1', '9', '0', '-1', '-2']\n",
      "Operation on each item using lambda and map() ['11', '12', '19', '10', '9', '8']\n"
     ]
    }
   ],
   "source": [
    "l = [\"1\", \"2\", \"9\", \"0\", \"-1\", \"-2\"]\n",
    "\n",
    "print(\"Sorted numerically:\",\n",
    "      sorted(l, key=lambda x: int(x)))\n",
    " \n",
    "print(\"Filtered positive even numbers:\", \n",
    "      list(filter(lambda x: not (int(x) % 2 == 0 and int(x) > 0), l)))\n",
    " \n",
    "print(\"Operation on each item using lambda and map()\",\n",
    "      list(map(lambda x: str(int(x) + 10), l)))"
   ]
  },
  {
   "cell_type": "code",
   "execution_count": null,
   "id": "94ff42d6-9ce5-45c6-ab9c-07fced7e81c8",
   "metadata": {},
   "outputs": [],
   "source": []
  }
 ],
 "metadata": {
  "kernelspec": {
   "display_name": "Python 3 (ipykernel)",
   "language": "python",
   "name": "python3"
  },
  "language_info": {
   "codemirror_mode": {
    "name": "ipython",
    "version": 3
   },
   "file_extension": ".py",
   "mimetype": "text/x-python",
   "name": "python",
   "nbconvert_exporter": "python",
   "pygments_lexer": "ipython3",
   "version": "3.11.7"
  }
 },
 "nbformat": 4,
 "nbformat_minor": 5
}
